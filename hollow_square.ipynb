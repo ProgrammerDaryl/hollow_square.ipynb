{
 "cells": [
  {
   "cell_type": "code",
   "execution_count": 2,
   "metadata": {},
   "outputs": [
    {
     "name": "stdout",
     "output_type": "stream",
     "text": [
      "Enter the side length of the square:  8\n",
      "xxxxxxxx\n",
      "x      x\n",
      "x      x\n",
      "x      x\n",
      "x      x\n",
      "x      x\n",
      "x      x\n",
      "xxxxxxxx\n"
     ]
    }
   ],
   "source": [
    "# ask the user to input the side length of the square\n",
    "side_length = int(input(\"Enter the side length of the square: \"))\n",
    "print(\"Enter the side length of the square: \", side_length)\n",
    "\n",
    "# if positive integer\n",
    "if side_length > 0:\n",
    "    for n in range(side_length):\n",
    "        if n == 0 or n == side_length - 1:\n",
    "            print(\"x\" * side_length)\n",
    "        else:\n",
    "            print(\"x\" + \" \" * (side_length - 2) + \"x\")\n",
    "# if negative integer\n",
    "else:\n",
    "    print(\"Please input a positive integer. Thank you!\")\n",
    "    "
   ]
  }
 ],
 "metadata": {
  "kernelspec": {
   "display_name": "Python 3",
   "language": "python",
   "name": "python3"
  },
  "language_info": {
   "codemirror_mode": {
    "name": "ipython",
    "version": 3
   },
   "file_extension": ".py",
   "mimetype": "text/x-python",
   "name": "python",
   "nbconvert_exporter": "python",
   "pygments_lexer": "ipython3",
   "version": "3.11.9"
  }
 },
 "nbformat": 4,
 "nbformat_minor": 2
}
