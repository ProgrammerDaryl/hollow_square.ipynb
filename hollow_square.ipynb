{
 "cells": [
  {
   "cell_type": "code",
   "execution_count": null,
   "metadata": {},
   "outputs": [],
   "source": [
    "# ask the user to input the side length of the square\n",
    "side_length = int(input(\"Enter the side length of the square: \"))\n",
    "\n",
    "# if positive integer\n",
    "if side_length > 0:\n",
    "    for n in range(side_length):\n",
    "        if n == 0 or n == side_length - 1:\n",
    "            print(\"*\" * side_length)\n",
    "        else:\n",
    "            print(\"*\" + \" \" * (side_length - 2) + \"*\")\n",
    "else:\n",
    "    print(\"Please input a positive integer. Thank you!\")\n",
    "    "
   ]
  }
 ],
 "metadata": {
  "kernelspec": {
   "display_name": "Python 3",
   "language": "python",
   "name": "python3"
  },
  "language_info": {
   "codemirror_mode": {
    "name": "ipython",
    "version": 3
   },
   "file_extension": ".py",
   "mimetype": "text/x-python",
   "name": "python",
   "nbconvert_exporter": "python",
   "pygments_lexer": "ipython3",
   "version": "3.11.9"
  }
 },
 "nbformat": 4,
 "nbformat_minor": 2
}
